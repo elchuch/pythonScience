{
 "cells": [
  {
   "cell_type": "markdown",
   "metadata": {},
   "source": [
    "<h1>Rosetta Code</h1>\n",
    "Level up your creative problem solving skills with these free programming tasks from the classic Rosetta Code library.\n",
    "\n",
    "These challenges can prove to be difficult, but they will push your algorithm logic to new heights.\n",
    "\n",
    "Attribute: Rosetta Code\n",
    "\n",
    "link:https://www.freecodecamp.org/learn/coding-interview-prep/#rosetta-code"
   ]
  },
  {
   "cell_type": "markdown",
   "metadata": {},
   "source": [
    "The Ackermann function is a classic example of a recursive function, notable especially because it is not a primitive recursive function. It grows very quickly in value, as does the size of its call tree.\n",
    "\n",
    "The Ackermann function is usually defined as follows:\n",
    "https://www.freecodecamp.org/learn/coding-interview-prep/rosetta-code/ackermann-function\n",
    "\n",
    "\n"
   ]
  },
  {
   "cell_type": "code",
   "execution_count": 2,
   "metadata": {},
   "outputs": [
    {
     "name": "stdout",
     "output_type": "stream",
     "text": [
      "ingresar el valor de m: 2\n",
      "ingresar el valor de n: 5\n",
      "el valor es:13\n"
     ]
    }
   ],
   "source": [
    "def ack(m,n):\n",
    "   \n",
    "        if m==0:\n",
    "            return n+1\n",
    "        elif m>0 and n==0:\n",
    "            return ack(m-1,1)\n",
    "        elif m>0 and n>0:\n",
    "            return ack(m-1,ack(m,n-1))\n",
    "        \n",
    "   \n",
    "      \n",
    "            \n",
    "m=int(input(\"ingresar el valor de m: \"))\n",
    "n=int(input(\"ingresar el valor de n: \"))\n",
    "result=ack(m,n)\n",
    "\n",
    "print(f\"el valor es:{result}\")"
   ]
  },
  {
   "cell_type": "markdown",
   "metadata": {},
   "source": [
    "Write a function mode to find the value that appears most in an array.\n",
    "\n",
    "The case where the collection is empty may be ignored. Care must be taken to handle the case where the mode is non-unique.\n",
    "\n",
    "If it is not appropriate or possible to support a general collection, use a vector (array), if possible. If it is not appropriate or possible to support an unspecified value type, use integers.\n",
    "https://www.freecodecamp.org/learn/coding-interview-prep/rosetta-code/averagesmode\n"
   ]
  },
  {
   "cell_type": "code",
   "execution_count": 21,
   "metadata": {
    "scrolled": true
   },
   "outputs": [
    {
     "name": "stdout",
     "output_type": "stream",
     "text": [
      "[1, 4]\n",
      "<class 'list'>\n",
      "[12, 6, 7]\n",
      "<class 'list'>\n"
     ]
    }
   ],
   "source": [
    " # El método nums.count devuelve el número de veces que el elemento x aparece en la lista.\n",
    "def mode(arr):\n",
    "    lis=[ i for i in arr if arr.count(i)>1 or arr.count(i)<0 and]\n",
    "    lis1=list(set(lis))\n",
    "    print(lis1)\n",
    "    print(type(lis1))\n",
    "\n",
    "mode([1, 2, 4, 4, 1])\n",
    "mode([1, 3, 6, 6, 6, 6, 7, 7, 12, 12, 17])\n",
    "\n"
   ]
  },
  {
   "cell_type": "markdown",
   "metadata": {},
   "source": [
    "Compute the Root Mean Square (RMS) of the numbers 1 through 10 inclusive.\n",
    "\n",
    "The RMS is calculated by taking the square root of the mean of the squares of the numbers, given by the equation:\n",
    "https://www.freecodecamp.org/learn/coding-interview-prep/rosetta-code/averagesroot-mean-square"
   ]
  },
  {
   "cell_type": "code",
   "execution_count": 25,
   "metadata": {},
   "outputs": [
    {
     "name": "stdout",
     "output_type": "stream",
     "text": [
      "6.2048368229954285\n"
     ]
    }
   ],
   "source": [
    "import math as m\n",
    "def rms(arr):\n",
    "    x=0\n",
    "    for i in arr:\n",
    "            x=i**2+x\n",
    "            \n",
    "    x=m.sqrt(x/len(arr))\n",
    "    return x\n",
    "print(rms([1, 2, 3, 4, 5, 6, 7, 8, 9, 10]))        \n",
    "    "
   ]
  },
  {
   "cell_type": "markdown",
   "metadata": {},
   "source": [
    "Cumulative standard deviation <br>\n",
    "Suppose that the entire population of interest is eight students in a particular class. For a finite set of numbers, the population standard deviation is found by taking the square root of the average of the squared deviations of the values subtracted from their average value. The marks of a class of eight students (that is, a statistical population) are the following eight values:\n",
    "https://www.freecodecamp.org/learn/coding-interview-prep/rosetta-code/cumulative-standard-deviation"
   ]
  },
  {
   "cell_type": "code",
   "execution_count": 46,
   "metadata": {},
   "outputs": [
    {
     "name": "stdout",
     "output_type": "stream",
     "text": [
      "la desviación estandar es :2.0\n"
     ]
    }
   ],
   "source": [
    "import math as m\n",
    "def standardDeviation(arr):\n",
    "    count=0\n",
    "    average=0\n",
    "    result=0\n",
    "    \n",
    "    for i in arr:\n",
    "        count=count+i\n",
    "    average=count/len(arr)\n",
    "    \n",
    "    for i in arr:\n",
    "        result=result+pow((i-average),2)\n",
    "       \n",
    "      \n",
    "    result=m.sqrt(result/len(arr))\n",
    "    return result\n",
    "print(f\"la desviación estandar es :{standardDeviation([2,4,4,4,5,5,7,9]) }\")"
   ]
  }
 ],
 "metadata": {
  "kernelspec": {
   "display_name": "Python 3",
   "language": "python",
   "name": "python3"
  },
  "language_info": {
   "codemirror_mode": {
    "name": "ipython",
    "version": 3
   },
   "file_extension": ".py",
   "mimetype": "text/x-python",
   "name": "python",
   "nbconvert_exporter": "python",
   "pygments_lexer": "ipython3",
   "version": "3.7.1"
  }
 },
 "nbformat": 4,
 "nbformat_minor": 2
}
